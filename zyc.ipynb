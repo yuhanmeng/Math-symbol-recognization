{
 "cells": [
  {
   "cell_type": "code",
   "execution_count": 27,
   "metadata": {},
   "outputs": [],
   "source": [
    "import shutil\n",
    "from torch.utils.data import Dataset\n",
    "\n",
    "import os,csv\n",
    "import time\n",
    "\n",
    "import numpy as np\n",
    "import pandas as pd\n",
    "\n",
    "import torch\n",
    "import torch.nn as nn\n",
    "import torch.nn.functional as F\n",
    "from torch.utils.data import DataLoader\n",
    "\n",
    "from torchvision import datasets\n",
    "from torchvision import transforms\n",
    "\n",
    "import matplotlib.pyplot as plt\n",
    "from PIL import Image\n",
    "\n",
    "\n",
    "%matplotlib inline\n",
    "if torch.cuda.is_available():\n",
    "    torch.backends.cudnn.deterministic = True"
   ]
  },
  {
   "cell_type": "code",
   "execution_count": 157,
   "metadata": {},
   "outputs": [],
   "source": [
    "# Hyperparameters\n",
    "RANDOM_SEED = 1\n",
    "LEARNING_RATE = 0.001\n",
    "BATCH_SIZE = 256\n",
    "NUM_EPOCHS = 5\n",
    "\n",
    "# Architecture\n",
    "NUM_FEATURES = 45*45\n",
    "NUM_CLASSES = 45\n",
    "\n",
    "# Other\n",
    "DEVICE = torch.device('cuda:0' if torch.cuda.is_available() else 'cpu')"
   ]
  },
  {
   "cell_type": "markdown",
   "metadata": {},
   "source": [
    "# Data process (No need to run)"
   ]
  },
  {
   "cell_type": "code",
   "execution_count": 68,
   "metadata": {},
   "outputs": [],
   "source": [
    "for root, dirs, files in os.walk('.'):\n",
    "    for item in dirs:\n",
    "        if (item[0]!='.'):\n",
    "            try:\n",
    "                os.remove(os.path.join(item,'.DS_Store'))\n",
    "            except:\n",
    "                pass"
   ]
  },
  {
   "cell_type": "code",
   "execution_count": 4,
   "metadata": {},
   "outputs": [],
   "source": [
    "folders = os.listdir('extracted_images/')\n",
    "for subfolder in folders:\n",
    "    subfolder_here = os.listdir(os.path.join('extracted_images',subfolder))     \n",
    "    j = -1\n",
    "    for image in subfolder_here:\n",
    "        j+=1\n",
    "        os.rename(os.path.join('extracted_images',subfolder,image), os.path.join('extracted_images',subfolder,subfolder+'_'+str(j)+'.jpg'))"
   ]
  },
  {
   "cell_type": "code",
   "execution_count": null,
   "metadata": {},
   "outputs": [],
   "source": [
    "try:\n",
    "    os.mkdir('mathsymbol')\n",
    "except FileExistsError:\n",
    "    pass\n",
    "folders = os.listdir('extracted_images')\n",
    "with open('msb.csv', mode='w') as msb:\n",
    "    msb_writer = csv.writer(msb, delimiter=',', quotechar='\"', quoting=csv.QUOTE_MINIMAL)\n",
    "    msb_writer.writerow(['Filename', 'Class Label'])\n",
    "    i = -1\n",
    "    for subfolder in folders:\n",
    "        i += 1\n",
    "        subfolder_here = os.listdir(os.path.join('extracted_images',subfolder))\n",
    "        for image in subfolder_here:\n",
    "            msb_writer.writerow([image,str(i)])"
   ]
  },
  {
   "cell_type": "code",
   "execution_count": null,
   "metadata": {},
   "outputs": [],
   "source": [
    "for subfolder in folders:\n",
    "    subfolder_here = os.listdir(os.path.join('extracted_images',subfolder))     \n",
    "    for image in subfolder_here:\n",
    "        shutil.copy(os.path.join('extracted_images',subfolder,image), os.path.join('mathsymbol',image) )"
   ]
  },
  {
   "cell_type": "code",
   "execution_count": null,
   "metadata": {},
   "outputs": [],
   "source": [
    "def get_label(row):\n",
    "    return int(row[1])"
   ]
  },
  {
   "cell_type": "code",
   "execution_count": null,
   "metadata": {},
   "outputs": [],
   "source": [
    "f6 = open('msb.csv', encoding=\"utf-8\")\n",
    "reader6 = list(csv.reader(f6))\n",
    "f6.close()\n",
    "sorted(reader6[1:],key=get_label,reverse=True)[:5]"
   ]
  },
  {
   "cell_type": "code",
   "execution_count": 151,
   "metadata": {},
   "outputs": [],
   "source": [
    "sample = os.listdir('sample_data')\n",
    "reader = []\n",
    "for file in sample:\n",
    "    reader += list(pd.read_csv(os.path.join('sample_data',file)).loc[:,'Filename'])\n",
    "reader = sorted(reader)"
   ]
  },
  {
   "cell_type": "code",
   "execution_count": null,
   "metadata": {},
   "outputs": [],
   "source": [
    "for image in reader:\n",
    "    shutil.copy(os.path.join('mathsymbol',image), os.path.join('sample_images',image))\n",
    "    if image == ')_800.jpg':\n",
    "        print(')800.jpg' in os.listdir('sample_images'))"
   ]
  },
  {
   "cell_type": "code",
   "execution_count": null,
   "metadata": {},
   "outputs": [],
   "source": [
    "sample_image = os.listdir('sample_images')\n",
    "sample_reader = []\n",
    "for file in sample_image:\n",
    "    sample_reader += [file]\n",
    "sample_reader"
   ]
  },
  {
   "cell_type": "code",
   "execution_count": 160,
   "metadata": {},
   "outputs": [],
   "source": [
    "folders = os.listdir('extracted_images')\n",
    "class_match = dict()\n",
    "i = -1\n",
    "for subfolder in folders:\n",
    "    i += 1\n",
    "    class_match[i] = subfolder"
   ]
  },
  {
   "cell_type": "code",
   "execution_count": 96,
   "metadata": {},
   "outputs": [
    {
     "name": "stdout",
     "output_type": "stream",
     "text": [
      "mathsymbol/!_1.jpg\n"
     ]
    },
    {
     "data": {
      "image/png": "[encoded data removed]",
      "text/plain": [
       "<Figure size 432x288 with 1 Axes>"
      ]
     },
     "metadata": {
      "needs_background": "light"
     },
     "output_type": "display_data"
    },
    {
     "name": "stdout",
     "output_type": "stream",
     "text": [
      "mathsymbol/(_10633.jpg\n"
     ]
    },
    {
     "data": {
      "image/png": "[encoded data removed]",
      "text/plain": [
       "<Figure size 432x288 with 1 Axes>"
      ]
     },
     "metadata": {
      "needs_background": "light"
     },
     "output_type": "display_data"
    },
    {
     "name": "stdout",
     "output_type": "stream",
     "text": [
      "mathsymbol/)_12390.jpg\n"
     ]
    },
    {
     "data": {
      "image/png": "[encoded data removed]",
      "text/plain": [
       "<Figure size 432x288 with 1 Axes>"
      ]
     },
     "metadata": {
      "needs_background": "light"
     },
     "output_type": "display_data"
    },
    {
     "name": "stdout",
     "output_type": "stream",
     "text": [
      "mathsymbol/+_2292.jpg\n"
     ]
    },
    {
     "data": {
      "image/png": "[encoded data removed]",
      "text/plain": [
       "<Figure size 432x288 with 1 Axes>"
      ]
     },
     "metadata": {
      "needs_background": "light"
     },
     "output_type": "display_data"
    }
   ],
   "source": [
    "import glob\n",
    "image_paths = sorted(glob.glob('mathsymbol/*.jpg'))\n",
    "for i in (1,2000,18000,43284):\n",
    "    im_path = image_paths[i]\n",
    "    print(im_path)\n",
    "    im = Image.open(im_path)\n",
    "    plt.imshow(im)\n",
    "    plt.show()"
   ]
  },
  {
   "cell_type": "markdown",
   "metadata": {},
   "source": [
    "# Loading data"
   ]
  },
  {
   "cell_type": "code",
   "execution_count": 5,
   "metadata": {},
   "outputs": [],
   "source": [
    "class QuickdrawDataset(Dataset):\n",
    "    \"\"\"Custom Dataset for loading Quickdraw images\"\"\"\n",
    "\n",
    "    def __init__(self, csv_path, img_dir, transform=None):\n",
    "    \n",
    "        df = pd.read_csv(csv_path)\n",
    "        self.img_dir = img_dir\n",
    "        self.img_names = df['Filename'].values\n",
    "        self.y = df['Class Label'].values\n",
    "        self.transform = transform\n",
    "\n",
    "    def __getitem__(self, index):\n",
    "        img = Image.open(os.path.join(self.img_dir,\n",
    "                                      self.img_names[index]))\n",
    "        \n",
    "        if self.transform is not None:\n",
    "            img = self.transform(img)\n",
    "        \n",
    "        label = self.y[index]\n",
    "        return img, label\n",
    "\n",
    "    def __len__(self):\n",
    "        return self.y.shape[0]"
   ]
  },
  {
   "cell_type": "markdown",
   "metadata": {},
   "source": [
    "## sample_data"
   ]
  },
  {
   "cell_type": "code",
   "execution_count": 58,
   "metadata": {},
   "outputs": [
    {
     "name": "stdout",
     "output_type": "stream",
     "text": [
      "Class distribution Train [ 117   46    8   24  103   98   49   14   12   56   10    2    3  185\n",
      "  247   22 1383   22  171 1847   12  506  134  157  155   96    6   32\n",
      "  114   35    3   27  160   77   75  146   45  810   19  743   21  141\n",
      "  814   45   41]\n"
     ]
    }
   ],
   "source": [
    "df_train = pd.read_csv('sample_data/sample_train.csv')\n",
    "print('Class distribution Train', np.bincount(df_train['Class Label'].values))\n",
    "custom_transform = transforms.Compose([#transforms.Lambda(lambda x: x/255.),\n",
    "                                       transforms.ToTensor()])\n",
    "\n",
    "\n",
    "train_dataset = QuickdrawDataset(csv_path='sample_data/sample_train.csv',\n",
    "                                 img_dir='mathsymbol/',\n",
    "                                 transform=custom_transform)\n",
    "\n",
    "train_loader = DataLoader(dataset=train_dataset,\n",
    "                          batch_size=256, \n",
    "                          shuffle=True,\n",
    "                          num_workers=4)\n",
    "\n",
    "\n",
    "valid_dataset = QuickdrawDataset(csv_path='sample_data/sample_valid.csv',\n",
    "                                 img_dir='mathsymbol/',\n",
    "                                 transform=custom_transform)\n",
    "\n",
    "valid_loader = DataLoader(dataset=valid_dataset,\n",
    "                          batch_size=256,\n",
    "                          shuffle=False,\n",
    "                          num_workers=4)\n",
    "\n",
    "test_dataset = QuickdrawDataset(csv_path='sample_data/sample_test.csv',\n",
    "                                img_dir='mathsymbol/',\n",
    "                                transform=custom_transform)\n",
    "\n",
    "test_loader = DataLoader(dataset=test_dataset,\n",
    "                         batch_size=256,\n",
    "                         shuffle=False,\n",
    "                         num_workers=4)"
   ]
  },
  {
   "cell_type": "markdown",
   "metadata": {},
   "source": [
    "## full_data"
   ]
  },
  {
   "cell_type": "code",
   "execution_count": 152,
   "metadata": {},
   "outputs": [
    {
     "name": "stdout",
     "output_type": "stream",
     "text": [
      "Class distribution Train [ 1457   576    99   294  1283  1226   622   185   143   699   128    15\n",
      "    34  2320  3083   271 17284   272  2144 23083   145  6313  1677  1974\n",
      "  1935  1206    78   402  1435   438    32   344  2009   964   936  1831\n",
      "   562 10129   237  9295   256  1764 10175   560   499]\n"
     ]
    }
   ],
   "source": [
    "df_train = pd.read_csv('full_data/train.csv')\n",
    "print('Class distribution Train', np.bincount(df_train['Class Label'].values))\n",
    "custom_transform = transforms.Compose([#transforms.Lambda(lambda x: x/255.),\n",
    "                                       transforms.ToTensor()])\n",
    "\n",
    "\n",
    "train_dataset = QuickdrawDataset(csv_path='full_data/train.csv',\n",
    "                                 img_dir='mathsymbol/',\n",
    "                                 transform=custom_transform)\n",
    "\n",
    "train_loader = DataLoader(dataset=train_dataset,\n",
    "                          batch_size=256, \n",
    "                          shuffle=True,\n",
    "                          num_workers=4)\n",
    "\n",
    "\n",
    "valid_dataset = QuickdrawDataset(csv_path='full_data/valid.csv',\n",
    "                                 img_dir='mathsymbol/',\n",
    "                                 transform=custom_transform)\n",
    "\n",
    "valid_loader = DataLoader(dataset=valid_dataset,\n",
    "                          batch_size=256,\n",
    "                          shuffle=False,\n",
    "                          num_workers=4)\n",
    "\n",
    "test_dataset = QuickdrawDataset(csv_path='full_data/test.csv',\n",
    "                                img_dir='mathsymbol/',\n",
    "                                transform=custom_transform)\n",
    "\n",
    "test_loader = DataLoader(dataset=test_dataset,\n",
    "                         batch_size=256,\n",
    "                         shuffle=False,\n",
    "                         num_workers=4)"
   ]
  },
  {
   "cell_type": "code",
   "execution_count": 153,
   "metadata": {},
   "outputs": [
    {
     "name": "stdout",
     "output_type": "stream",
     "text": [
      "Epoch: 1 | Batch index: 0 | Batch size: 256\n",
      "break minibatch for-loop\n",
      "Epoch: 2 | Batch index: 0 | Batch size: 256\n",
      "break minibatch for-loop\n"
     ]
    }
   ],
   "source": [
    "#just check if data are loaded correctly\n",
    "torch.manual_seed(0)\n",
    "\n",
    "num_epochs = 2\n",
    "for epoch in range(num_epochs):\n",
    "\n",
    "    for batch_idx, (x, y) in enumerate(train_loader):\n",
    "        \n",
    "        print('Epoch:', epoch+1, end='')\n",
    "        print(' | Batch index:', batch_idx, end='')\n",
    "        print(' | Batch size:', y.size()[0])\n",
    "        \n",
    "        x = x.to(DEVICE)\n",
    "        y = y.to(DEVICE)\n",
    "        \n",
    "        print('break minibatch for-loop')\n",
    "        break"
   ]
  },
  {
   "cell_type": "markdown",
   "metadata": {},
   "source": [
    "# hw4"
   ]
  },
  {
   "cell_type": "code",
   "execution_count": 154,
   "metadata": {},
   "outputs": [],
   "source": [
    "###############################\n",
    "### NO NEED TO CHANGE THIS CELL\n",
    "###############################\n",
    "\n",
    "def compute_epoch_loss(model, data_loader):\n",
    "    model.eval()\n",
    "    curr_loss, num_examples = 0., 0\n",
    "    with torch.no_grad():\n",
    "        for features, targets in data_loader:\n",
    "            features = features.to(DEVICE)\n",
    "            targets = targets.to(DEVICE)\n",
    "            logits, probas = model(features)\n",
    "            loss = F.cross_entropy(logits, targets, reduction='sum')\n",
    "            num_examples += targets.size(0)\n",
    "            curr_loss += loss\n",
    "\n",
    "        curr_loss = curr_loss / num_examples\n",
    "        return curr_loss\n",
    "\n",
    "\n",
    "def compute_accuracy(model, data_loader, device):\n",
    "    model.eval()\n",
    "    correct_pred, num_examples = 0, 0\n",
    "    for i, (features, targets) in enumerate(data_loader):\n",
    "            \n",
    "        features = features.to(device)\n",
    "        targets = targets.to(device)\n",
    "        #feature extract###############\n",
    "        #arr_ = np.squeeze(features) # you can give axis attribute if you wanna squeeze in specific dimension\n",
    "        #plt.imshow(arr_)\n",
    "        #plt.show()\n",
    "        ############################\n",
    "        logits, probas = model(features)\n",
    "        _, predicted_labels = torch.max(probas, 1)\n",
    "        num_examples += targets.size(0)\n",
    "        correct_pred += (predicted_labels == targets).sum()\n",
    "    return correct_pred.float()/num_examples * 100"
   ]
  },
  {
   "cell_type": "code",
   "execution_count": 155,
   "metadata": {},
   "outputs": [],
   "source": [
    "###############################\n",
    "### NO NEED TO CHANGE THIS CELL\n",
    "###############################\n",
    "\n",
    "def train(model, train_loader, test_loader):\n",
    "\n",
    "    minibatch_cost, epoch_cost = [], []\n",
    "    start_time = time.time()\n",
    "    for epoch in range(NUM_EPOCHS):\n",
    "\n",
    "        model.train()\n",
    "        for batch_idx, (features, targets) in enumerate(train_loader):\n",
    "\n",
    "            features = features.to(DEVICE)\n",
    "            targets = targets.to(DEVICE)\n",
    "\n",
    "            ### FORWARD AND BACK PROP\n",
    "            logits, probas = model(features)\n",
    "            cost = F.cross_entropy(logits, targets)\n",
    "            optimizer.zero_grad()\n",
    "\n",
    "            cost.backward()\n",
    "            minibatch_cost.append(cost)\n",
    "\n",
    "            ### UPDATE MODEL PARAMETERS\n",
    "            optimizer.step()\n",
    "\n",
    "            ### LOGGING\n",
    "            if not batch_idx % 150:\n",
    "                print ('Epoch: %03d/%03d | Batch %04d/%04d | Cost: %.4f' \n",
    "                       %(epoch+1, NUM_EPOCHS, batch_idx, \n",
    "                         len(train_loader), cost))\n",
    "\n",
    "    \n",
    "        with torch.set_grad_enabled(False): # save memory during inference\n",
    "            print('Epoch: %03d/%03d | Train: %.3f%%' % (\n",
    "                  epoch+1, NUM_EPOCHS, \n",
    "                  compute_accuracy(model, train_loader, device=DEVICE)))\n",
    "            \n",
    "            cost = compute_epoch_loss(model, train_loader)\n",
    "            epoch_cost.append(cost)\n",
    "\n",
    "        print('Time elapsed: %.2f min' % ((time.time() - start_time)/60))\n",
    "\n",
    "    print('Total Training Time: %.2f min' % ((time.time() - start_time)/60))\n",
    "\n",
    "\n",
    "    with torch.set_grad_enabled(False): # save memory during inference\n",
    "        print('Test accuracy: %.2f%%' % (compute_accuracy(model, test_loader, device=DEVICE)))\n",
    "\n",
    "    print('Total Time: %.2f min' % ((time.time() - start_time)/60))\n",
    "    \n",
    "    return minibatch_cost, epoch_cost\n"
   ]
  },
  {
   "cell_type": "code",
   "execution_count": 158,
   "metadata": {},
   "outputs": [
    {
     "name": "stdout",
     "output_type": "stream",
     "text": [
      "Epoch: 001/005 | Batch 0000/0432 | Cost: 3.9054\n",
      "Epoch: 001/005 | Batch 0150/0432 | Cost: 0.1533\n",
      "Epoch: 001/005 | Batch 0300/0432 | Cost: 0.1181\n",
      "Epoch: 001/005 | Train: 95.717%\n",
      "Time elapsed: 8.60 min\n",
      "Epoch: 002/005 | Batch 0000/0432 | Cost: 0.0906\n",
      "Epoch: 002/005 | Batch 0150/0432 | Cost: 0.0848\n",
      "Epoch: 002/005 | Batch 0300/0432 | Cost: 0.0710\n",
      "Epoch: 002/005 | Train: 99.142%\n",
      "Time elapsed: 17.16 min\n",
      "Epoch: 003/005 | Batch 0000/0432 | Cost: 0.0432\n",
      "Epoch: 003/005 | Batch 0150/0432 | Cost: 0.0338\n",
      "Epoch: 003/005 | Batch 0300/0432 | Cost: 0.0336\n",
      "Epoch: 003/005 | Train: 99.110%\n",
      "Time elapsed: 25.96 min\n",
      "Epoch: 004/005 | Batch 0000/0432 | Cost: 0.0520\n",
      "Epoch: 004/005 | Batch 0150/0432 | Cost: 0.0216\n",
      "Epoch: 004/005 | Batch 0300/0432 | Cost: 0.0330\n",
      "Epoch: 004/005 | Train: 99.475%\n",
      "Time elapsed: 34.89 min\n",
      "Epoch: 005/005 | Batch 0000/0432 | Cost: 0.0276\n",
      "Epoch: 005/005 | Batch 0150/0432 | Cost: 0.0205\n",
      "Epoch: 005/005 | Batch 0300/0432 | Cost: 0.0225\n",
      "Epoch: 005/005 | Train: 99.601%\n",
      "Time elapsed: 44.30 min\n",
      "Total Training Time: 44.30 min\n",
      "Test accuracy: 99.40%\n",
      "Total Time: 44.75 min\n"
     ]
    },
    {
     "data": {
      "image/png": "[encoded data removed]",
      "text/plain": [
       "<Figure size 432x288 with 1 Axes>"
      ]
     },
     "metadata": {
      "needs_background": "light"
     },
     "output_type": "display_data"
    },
    {
     "data": {
      "image/png": "[encoded data removed]",
      "text/plain": [
       "<Figure size 432x288 with 1 Axes>"
      ]
     },
     "metadata": {
      "needs_background": "light"
     },
     "output_type": "display_data"
    }
   ],
   "source": [
    "##########################\n",
    "### MODEL\n",
    "##########################\n",
    "\n",
    "class ConvNet3(nn.Module):\n",
    "\n",
    "    def __init__(self, num_classes=NUM_CLASSES):\n",
    "        super(ConvNet3, self).__init__()\n",
    "        \n",
    "        #### YOUR CODE\n",
    "        self.conv0 = nn.Conv2d(1, 64, kernel_size=4, stride=3,padding=2)\n",
    "        #self.pool0  = nn.MaxPool2d(kernel_size=(2,2),stride=2,padding=0)\n",
    "        \n",
    "        self.conv1 =  nn.Conv2d(64, 128, kernel_size=4, stride=2, padding=2)\n",
    "        self.pool1 = nn.MaxPool2d(kernel_size=(2,2),stride=2,padding=0)\n",
    "        \n",
    "        self.conv2 = nn.Conv2d(128, 256, kernel_size=4,stride=2,padding=2)\n",
    "        self.bn2   = nn.BatchNorm2d(256)\n",
    "        self.pool2 = nn.MaxPool2d(kernel_size=(2,2),stride=2,padding=0)\n",
    "        \n",
    "        self.relu = nn.ReLU(inplace=True)\n",
    "        \n",
    "        self.linear1 = nn.Linear(256,2048)\n",
    "        self.bnnl1   = nn.BatchNorm1d(2048)\n",
    "        \n",
    "        self.linear2 = nn.Linear(2048,2048)\n",
    "        self.bnnl2   = nn.BatchNorm1d(2048)\n",
    "        \n",
    "        self.linear3 = nn.Linear(2048, num_classes)  \n",
    "\n",
    "    def forward(self, x):\n",
    "\n",
    "        #### YOUR CODE\n",
    "        out = self.conv0(x)\n",
    "        #print(out.size())\n",
    "        out = self.relu(out)\n",
    "        #out = self.pool0(out)\n",
    "        #print(out.size())\n",
    "        \n",
    "        out = self.conv1(out)\n",
    "        out = self.relu(out)\n",
    "        out = self.pool1(out)\n",
    "        #print(out.size())\n",
    "        \n",
    "        out = self.conv2(out)\n",
    "        out = self.bn2(out)\n",
    "        out = F.dropout(out, p=0.2, training=self.training)\n",
    "        out = self.relu(out)\n",
    "        out = self.pool2(out)\n",
    "        #print(out.size())\n",
    "        \n",
    "        out = self.linear1(out.view(out.size(0),256))\n",
    "        #print(out.size())\n",
    "        out = self.bnnl1(out)\n",
    "        out = self.relu(out)\n",
    "        out = F.dropout(out, p=0.5, training=self.training)\n",
    "        #print(out.size())\n",
    "        \n",
    "        out = self.linear2(out)\n",
    "        out = self.bnnl2(out)\n",
    "        out = self.relu(out)\n",
    "        out = F.dropout(out, p=0.5, training=self.training)\n",
    "        #print(out.size())\n",
    "        \n",
    "        logits = self.linear3(out)\n",
    "        probas = F.softmax(logits, dim=1)\n",
    "        return logits, probas\n",
    "\n",
    "    \n",
    "torch.manual_seed(RANDOM_SEED)\n",
    "\n",
    "model3 = ConvNet3(NUM_CLASSES)\n",
    "model3.to(DEVICE)\n",
    "\n",
    "optimizer = torch.optim.Adam(model3.parameters(), lr=LEARNING_RATE)\n",
    "\n",
    "minibatch_cost, epoch_cost = train(model3, train_loader, test_loader)\n",
    "\n",
    "\n",
    "plt.plot(range(len(minibatch_cost)), minibatch_cost)\n",
    "plt.ylabel('Cross Entropy')\n",
    "plt.xlabel('Minibatch')\n",
    "plt.show()\n",
    "\n",
    "plt.plot(range(len(epoch_cost)), epoch_cost)\n",
    "plt.ylabel('Cross Entropy')\n",
    "plt.xlabel('Epoch')\n",
    "plt.show()"
   ]
  },
  {
   "cell_type": "markdown",
   "metadata": {},
   "source": [
    "# Predict "
   ]
  },
  {
   "cell_type": "code",
   "execution_count": null,
   "metadata": {},
   "outputs": [],
   "source": [
    "folders = os.listdir('extracted_images')\n",
    "class_match = dict()\n",
    "i = -1\n",
    "for subfolder in folders:\n",
    "    i += 1\n",
    "    class_match[i] = subfolder"
   ]
  },
  {
   "cell_type": "code",
   "execution_count": 191,
   "metadata": {},
   "outputs": [
    {
     "name": "stdout",
     "output_type": "stream",
     "text": [
      "True class: =\n"
     ]
    },
    {
     "data": {
      "image/png": "[encoded data removed]",
      "text/plain": [
       "<Figure size 432x288 with 1 Axes>"
      ]
     },
     "metadata": {
      "needs_background": "light"
     },
     "output_type": "display_data"
    },
    {
     "name": "stdout",
     "output_type": "stream",
     "text": [
      "Predict class:  =\n"
     ]
    },
    {
     "data": {
      "text/html": [
       "<div>\n",
       "<style scoped>\n",
       "    .dataframe tbody tr th:only-of-type {\n",
       "        vertical-align: middle;\n",
       "    }\n",
       "\n",
       "    .dataframe tbody tr th {\n",
       "        vertical-align: top;\n",
       "    }\n",
       "\n",
       "    .dataframe thead th {\n",
       "        text-align: right;\n",
       "    }\n",
       "</style>\n",
       "<table border=\"1\" class=\"dataframe\">\n",
       "  <thead>\n",
       "    <tr style=\"text-align: right;\">\n",
       "      <th></th>\n",
       "      <th>Class</th>\n",
       "      <th>Probability</th>\n",
       "    </tr>\n",
       "  </thead>\n",
       "  <tbody>\n",
       "    <tr>\n",
       "      <th>0</th>\n",
       "      <td>=</td>\n",
       "      <td>9.999982e-01</td>\n",
       "    </tr>\n",
       "    <tr>\n",
       "      <th>1</th>\n",
       "      <td>-</td>\n",
       "      <td>7.025955e-07</td>\n",
       "    </tr>\n",
       "    <tr>\n",
       "      <th>2</th>\n",
       "      <td>lt</td>\n",
       "      <td>6.251344e-07</td>\n",
       "    </tr>\n",
       "  </tbody>\n",
       "</table>\n",
       "</div>"
      ],
      "text/plain": [
       "  Class   Probability\n",
       "0     =  9.999982e-01\n",
       "1     -  7.025955e-07\n",
       "2    lt  6.251344e-07"
      ]
     },
     "execution_count": 191,
     "metadata": {},
     "output_type": "execute_result"
    }
   ],
   "source": [
    "application_index = [94392]#<=153,354\n",
    "\n",
    "import glob\n",
    "image_paths = sorted(glob.glob('mathsymbol/*.jpg'))\n",
    "\n",
    "with open('application.csv', mode='w') as app:\n",
    "    app_writer = csv.writer(app, delimiter=',', quotechar='\"', quoting=csv.QUOTE_MINIMAL)\n",
    "    app_writer.writerow(['Filename', 'Class Label'])\n",
    "    for image in application_index:\n",
    "        app_writer.writerow([image_paths[image].split('/')[1], 0])\n",
    "    \n",
    "for i in application_index:\n",
    "    im_path = image_paths[i]\n",
    "    print('True class:', im_path.split('/')[1].split('_')[0])\n",
    "    im = Image.open(im_path)\n",
    "    plt.imshow(im)\n",
    "    plt.show()\n",
    "    \n",
    "application_dataset = QuickdrawDataset(csv_path='application.csv',\n",
    "                                 img_dir='mathsymbol/',\n",
    "                                 transform=custom_transform)\n",
    "application_loader = DataLoader(dataset=application_dataset,\n",
    "                          batch_size=1, \n",
    "                          shuffle=True,\n",
    "                          num_workers=4)\n",
    "\n",
    "def predict(model, data_loader, device):\n",
    "    model.eval()\n",
    "    correct_pred, num_examples = 0, 0\n",
    "    for i, (features, targets) in enumerate(data_loader):\n",
    "            \n",
    "        features = features.to(device)\n",
    "        targets = targets.to(device)\n",
    "        logits, probas = model(features)\n",
    "        probas_read = pd.Series(probas.tolist()[0])\n",
    "        class_label = pd.Series(list(range(NUM_CLASSES)))\n",
    "        top3 = []\n",
    "        top3 += [[class_match[list(class_label[probas_read == sorted(probas_read)[-1]])[0]], sorted(probas_read)[-1]]]\n",
    "        top3 += [[class_match[list(class_label[probas_read == sorted(probas_read)[-2]])[0]], sorted(probas_read)[-2]]]\n",
    "        top3 += [[class_match[list(class_label[probas_read == sorted(probas_read)[-3]])[0]], sorted(probas_read)[-3]]]\n",
    "        top3 = pd.DataFrame(top3)\n",
    "        _, predicted_labels = torch.max(probas, 1)\n",
    "        print('Predict class: ', class_match[int(predicted_labels)])\n",
    "        top3.columns = ['Class', 'Probability']\n",
    "        return top3\n",
    "\n",
    "predict(model3, application_loader, DEVICE) "
   ]
  },
  {
   "cell_type": "code",
   "execution_count": 179,
   "metadata": {},
   "outputs": [
    {
     "name": "stdout",
     "output_type": "stream",
     "text": [
      "\n",
      ".. function:: max(input) -> Tensor\n",
      "\n",
      "Returns the maximum value of all elements in the :attr:`input` tensor.\n",
      "\n",
      "Args:\n",
      "    input (Tensor): the input tensor\n",
      "\n",
      "Example::\n",
      "\n",
      "    >>> a = torch.randn(1, 3)\n",
      "    >>> a\n",
      "    tensor([[ 0.6763,  0.7445, -2.2369]])\n",
      "    >>> torch.max(a)\n",
      "    tensor(0.7445)\n",
      "\n",
      ".. function:: max(input, dim, keepdim=False, out=None) -> (Tensor, LongTensor)\n",
      "\n",
      "Returns the maximum value of each row of the :attr:`input` tensor in the given\n",
      "dimension :attr:`dim`. The second return value is the index location of each\n",
      "maximum value found (argmax).\n",
      "\n",
      "If :attr:`keepdim` is ``True``, the output tensors are of the same size\n",
      "as :attr:`input` except in the dimension :attr:`dim` where they are of size 1.\n",
      "Otherwise, :attr:`dim` is squeezed (see :func:`torch.squeeze`), resulting\n",
      "in the output tensors having 1 fewer dimension than :attr:`input`.\n",
      "\n",
      "Args:\n",
      "    input (Tensor): the input tensor\n",
      "    dim (int): the dimension to reduce\n",
      "    keepdim (bool): whether the output tensors have :attr:`dim` retained or not\n",
      "    out (tuple, optional): the result tuple of two output tensors (max, max_indices)\n",
      "\n",
      "Example::\n",
      "\n",
      "    >>> a = torch.randn(4, 4)\n",
      "    >>> a\n",
      "    tensor([[-1.2360, -0.2942, -0.1222,  0.8475],\n",
      "            [ 1.1949, -1.1127, -2.2379, -0.6702],\n",
      "            [ 1.5717, -0.9207,  0.1297, -1.8768],\n",
      "            [-0.6172,  1.0036, -0.6060, -0.2432]])\n",
      "    >>> torch.max(a, 1)\n",
      "    (tensor([ 0.8475,  1.1949,  1.5717,  1.0036]), tensor([ 3,  0,  0,  1]))\n",
      "\n",
      ".. function:: max(input, other, out=None) -> Tensor\n",
      "\n",
      "Each element of the tensor :attr:`input` is compared with the corresponding\n",
      "element of the tensor :attr:`other` and an element-wise maximum is taken.\n",
      "\n",
      "The shapes of :attr:`input` and :attr:`other` don't need to match,\n",
      "but they must be :ref:`broadcastable <broadcasting-semantics>`.\n",
      "\n",
      ".. math::\n",
      "    \\text{out}_i = \\max(\\text{tensor}_i, \\text{other}_i)\n",
      "\n",
      ".. note:: When the shapes do not match, the shape of the returned output tensor\n",
      "          follows the :ref:`broadcasting rules <broadcasting-semantics>`.\n",
      "\n",
      "Args:\n",
      "    input (Tensor): the input tensor\n",
      "    other (Tensor): the second input tensor\n",
      "    out (Tensor, optional): the output tensor\n",
      "\n",
      "Example::\n",
      "\n",
      "    >>> a = torch.randn(4)\n",
      "    >>> a\n",
      "    tensor([ 0.2942, -0.7416,  0.2653, -0.1584])\n",
      "    >>> b = torch.randn(4)\n",
      "    >>> b\n",
      "    tensor([ 0.8722, -1.7421, -0.4141, -0.5055])\n",
      "    >>> torch.max(a, b)\n",
      "    tensor([ 0.8722, -0.7416,  0.2653, -0.1584])\n",
      "\n"
     ]
    }
   ],
   "source": [
    "print(torch.max.__doc__)"
   ]
  },
  {
   "cell_type": "code",
   "execution_count": null,
   "metadata": {},
   "outputs": [],
   "source": []
  }
 ],
 "metadata": {
  "kernelspec": {
   "display_name": "Python 3",
   "language": "python",
   "name": "python3"
  },
  "language_info": {
   "codemirror_mode": {
    "name": "ipython",
    "version": 3
   },
   "file_extension": ".py",
   "mimetype": "text/x-python",
   "name": "python",
   "nbconvert_exporter": "python",
   "pygments_lexer": "ipython3",
   "version": "3.7.1"
  }
 },
 "nbformat": 4,
 "nbformat_minor": 2
}
